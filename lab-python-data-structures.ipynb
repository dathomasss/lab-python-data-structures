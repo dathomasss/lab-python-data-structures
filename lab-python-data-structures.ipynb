{
 "cells": [
  {
   "cell_type": "markdown",
   "metadata": {
    "tags": []
   },
   "source": [
    "# Lab | Data Structures "
   ]
  },
  {
   "cell_type": "markdown",
   "metadata": {},
   "source": [
    "## Exercise: Managing Customer Orders\n",
    "\n",
    "As part of a business venture, you are starting an online store that sells various products. To ensure smooth operations, you need to develop a program that manages customer orders and inventory.\n",
    "\n",
    "Follow the steps below to complete the exercise:\n",
    "\n",
    "1. Define a list called `products` that contains the following items: \"t-shirt\", \"mug\", \"hat\", \"book\", \"keychain\".\n",
    "\n",
    "2. Create an empty dictionary called `inventory`.\n",
    "\n",
    "3. Ask the user to input the quantity of each product available in the inventory. Use the product names from the `products` list as keys in the `inventory` dictionary and assign the respective quantities as values.\n",
    "\n",
    "4. Create an empty set called `customer_orders`.\n",
    "\n",
    "5. Ask the user to input the name of three products that a customer wants to order (from those in the products list, meaning three products out of \"t-shirt\", \"mug\", \"hat\", \"book\" or \"keychain\". Add each product name to the `customer_orders` set.\n",
    "\n",
    "6. Print the products in the `customer_orders` set.\n",
    "\n",
    "7. Calculate the following order statistics:\n",
    "   - Total Products Ordered: The total number of products in the `customer_orders` set.\n",
    "   - Percentage of Products Ordered: The percentage of products ordered compared to the total available products.\n",
    "   \n",
    "   Store these statistics in a tuple called `order_status`.\n",
    "\n",
    "8. Print the order statistics using the following format:\n",
    "   ```\n",
    "   Order Statistics:\n",
    "   Total Products Ordered: <total_products_ordered>\n",
    "   Percentage of Products Ordered: <percentage_ordered>% \n",
    "   ```\n",
    "\n",
    "9. Update the inventory by subtracting 1 from the quantity of each product. Modify the `inventory` dictionary accordingly.\n",
    "\n",
    "10. Print the updated inventory, displaying the quantity of each product on separate lines.\n",
    "\n",
    "Solve the exercise by implementing the steps using the Python concepts of lists, dictionaries, sets, and basic input/output operations. "
   ]
  },
  {
   "cell_type": "code",
   "execution_count": 90,
   "metadata": {},
   "outputs": [
    {
     "name": "stdin",
     "output_type": "stream",
     "text": [
      "Enter the quantity : 5\n",
      "Enter the quantity : 6\n",
      "Enter the quantity : 2\n",
      "Enter the quantity : 10\n",
      "Enter the quantity : 8\n",
      "choose products :  hat\n",
      "choose products :  mug\n",
      "choose products :  book\n"
     ]
    },
    {
     "name": "stdout",
     "output_type": "stream",
     "text": [
      "Customers orders :\n",
      "{'mug', 'hat', 'book'}\n",
      "\n",
      "Order statistique :\n",
      "Total product ordered : 3\n",
      "Percentage of product ordered : 60\n",
      "{'t-shirt': 4, 'mug': 5, 'hat': 1, 'book': 9, 'keychain': 7}\n"
     ]
    }
   ],
   "source": [
    "products = [\"t-shirt\", \"mug\", \"hat\", \"book\", \"keychain\"]\n",
    "\n",
    "inventory = {}\n",
    "\n",
    "for i in products:\n",
    "    inventory[i] = int(input(\"Enter the quantity :\"))\n",
    "\n",
    "customer_orders = set()\n",
    "\n",
    "for i in range (1, 4):\n",
    "    prod = input(\"choose products : \") in products\n",
    "    if prod == True:\n",
    "        customer_orders.add(products[i])\n",
    "    else :\n",
    "        print(\"the product is not in the list\")\n",
    "\n",
    "print (\"Customers orders :\")\n",
    "print (customer_orders)\n",
    "print ()\n",
    "    \n",
    "\n",
    "number_in_co = 0\n",
    "for i in customer_orders:\n",
    "    number_in_co += 1\n",
    "\n",
    "percentage_product = int((number_in_co / len(products)) * 100)\n",
    "\n",
    "print(\"Order statistique :\")\n",
    "order_status = ((f\"There is {number_in_co} orders in customer orders\"), (f\"The percentage of product ordered compared to the total available of product is {percentage_product}%\"))\n",
    "#print (order_status)\n",
    "print (f\"Total product ordered : {number_in_co}\")\n",
    "print (f\"Percentage of product ordered : {percentage_product}\")\n",
    "\n",
    "\n",
    "for i in inventory : \n",
    "    inventory[i] -= 1\n",
    "\n",
    "for product, qté in inventory.items():\n",
    "    print (f\"The product {product} equal now to {qté}\n",
    "print (inventory)\n"
   ]
  }
 ],
 "metadata": {
  "kernelspec": {
   "display_name": "Python 3 (ipykernel)",
   "language": "python",
   "name": "python3"
  },
  "language_info": {
   "codemirror_mode": {
    "name": "ipython",
    "version": 3
   },
   "file_extension": ".py",
   "mimetype": "text/x-python",
   "name": "python",
   "nbconvert_exporter": "python",
   "pygments_lexer": "ipython3",
   "version": "3.12.7"
  }
 },
 "nbformat": 4,
 "nbformat_minor": 4
}
